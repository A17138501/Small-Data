# 🧩 下载并保存 xlam-function-calling-60k 数据集

from datasets import load_dataset
import pandas as pd
import os

# === Step 1. 加载数据集 ===
print("Loading dataset 'xlam-function-calling-60k' ...")
dataset = load_dataset("xlam-function-calling-60k")

# === Step 2. 转换为 DataFrame ===
df = pd.DataFrame(dataset["train"])

# === Step 3. 创建本地目录 data/raw/ ===
output_dir = "data/raw"
os.makedirs(output_dir, exist_ok=True)

# === Step 4. 保存为 CSV 文件 ===
output_path = os.path.join(output_dir, "apigen.csv")
df.to_csv(output_path, index=False, encoding="utf-8")

print(f"✅ Saved dataset to {output_path}")

# === Step 5. 简单检查 ===
df.head()

