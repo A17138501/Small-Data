{
 "cells": [
  {
   "cell_type": "code",
   "execution_count": null,
   "id": "606aba9b",
   "metadata": {},
   "outputs": [
    {
     "name": "stdout",
     "output_type": "stream",
     "text": [
      "未检测到 HF_TOKEN 环境变量，如需访问私有或 gated 数据集，请在下方输入 Token（留空则跳过）。\n",
      "✅ Hugging Face 登录成功（read）\n"
     ]
    }
   ],
   "source": [
    "# === Cell 1: (可选) 安全登录 Hugging Face，支持环境变量/交互输入 ===\n",
    "import os\n",
    "from getpass import getpass\n",
    "\n",
    "HF_TOKEN = os.environ.get(\"hf_\")  # 可提前 export HF_TOKEN=hf_xxx\n",
    "if HF_TOKEN is None:\n",
    "    print(\"未检测到 HF_TOKEN 环境变量，如需访问私有或 gated 数据集，请在下方输入 Token（留空则跳过）。\")\n",
    "    try:\n",
    "        HF_TOKEN = getpass(\"Paste your hf_*** token (input hidden, press Enter to skip): \").strip() or None\n",
    "    except Exception:\n",
    "        HF_TOKEN = None\n",
    "\n",
    "if HF_TOKEN:\n",
    "    try:\n",
    "        from huggingface_hub import login\n",
    "        login(HF_TOKEN)  # 仅本地登录，不会提交到仓库\n",
    "        print(\"✅ Hugging Face 登录成功（read）\")\n",
    "    except Exception as e:\n",
    "        print(\"⚠️ 登录失败，不影响加载公开数据集。错误：\", e)\n",
    "else:\n",
    "    print(\"ℹ️ 跳过登录：将仅能加载公开数据集或本地文件。\")\n",
    "\n"
   ]
  },
  {
   "cell_type": "code",
   "execution_count": 6,
   "id": "56a3edfe",
   "metadata": {},
   "outputs": [
    {
     "name": "stdout",
     "output_type": "stream",
     "text": [
      "📦 Loading dataset 'minpeter/xlam-function-calling-60k-parsed' ...\n"
     ]
    },
    {
     "data": {
      "application/vnd.jupyter.widget-view+json": {
       "model_id": "d50fe3f50fba40cab4f65cccbae4cc50",
       "version_major": 2,
       "version_minor": 0
      },
      "text/plain": [
       "README.md: 0.00B [00:00, ?B/s]"
      ]
     },
     "metadata": {},
     "output_type": "display_data"
    },
    {
     "data": {
      "application/vnd.jupyter.widget-view+json": {
       "model_id": "f3352c14275d4d30b2da4e2395be5d4a",
       "version_major": 2,
       "version_minor": 0
      },
      "text/plain": [
       "xlam-function-calling-60k.parquet:   0%|          | 0.00/26.1M [00:00<?, ?B/s]"
      ]
     },
     "metadata": {},
     "output_type": "display_data"
    },
    {
     "data": {
      "application/vnd.jupyter.widget-view+json": {
       "model_id": "76c23d77cb194ad6888159e31baa19b5",
       "version_major": 2,
       "version_minor": 0
      },
      "text/plain": [
       "Generating train split:   0%|          | 0/60000 [00:00<?, ? examples/s]"
      ]
     },
     "metadata": {},
     "output_type": "display_data"
    },
    {
     "name": "stdout",
     "output_type": "stream",
     "text": [
      "✅ Dataset loaded successfully!\n",
      "💾 Saved dataset to data/raw/apigen.csv\n"
     ]
    },
    {
     "data": {
      "text/html": [
       "<div>\n",
       "<style scoped>\n",
       "    .dataframe tbody tr th:only-of-type {\n",
       "        vertical-align: middle;\n",
       "    }\n",
       "\n",
       "    .dataframe tbody tr th {\n",
       "        vertical-align: top;\n",
       "    }\n",
       "\n",
       "    .dataframe thead th {\n",
       "        text-align: right;\n",
       "    }\n",
       "</style>\n",
       "<table border=\"1\" class=\"dataframe\">\n",
       "  <thead>\n",
       "    <tr style=\"text-align: right;\">\n",
       "      <th></th>\n",
       "      <th>messages</th>\n",
       "      <th>tools</th>\n",
       "      <th>extra</th>\n",
       "    </tr>\n",
       "  </thead>\n",
       "  <tbody>\n",
       "    <tr>\n",
       "      <th>0</th>\n",
       "      <td>[{'content': 'Where can I find live giveaways ...</td>\n",
       "      <td>[{\"type\": \"function\", \"function\": {\"name\": \"li...</td>\n",
       "      <td>{'id': 0}</td>\n",
       "    </tr>\n",
       "    <tr>\n",
       "      <th>1</th>\n",
       "      <td>[{'content': 'I need to understand the details...</td>\n",
       "      <td>[{\"type\": \"function\", \"function\": {\"name\": \"pe...</td>\n",
       "      <td>{'id': 1}</td>\n",
       "    </tr>\n",
       "    <tr>\n",
       "      <th>2</th>\n",
       "      <td>[{'content': 'What is the T3MA for 'ETH/BTC' u...</td>\n",
       "      <td>[{\"type\": \"function\", \"function\": {\"name\": \"t3...</td>\n",
       "      <td>{'id': 2}</td>\n",
       "    </tr>\n",
       "    <tr>\n",
       "      <th>3</th>\n",
       "      <td>[{'content': 'List titles originally aired on ...</td>\n",
       "      <td>[{\"type\": \"function\", \"function\": {\"name\": \"ge...</td>\n",
       "      <td>{'id': 3}</td>\n",
       "    </tr>\n",
       "    <tr>\n",
       "      <th>4</th>\n",
       "      <td>[{'content': 'Fetch the competitor standings f...</td>\n",
       "      <td>[{\"type\": \"function\", \"function\": {\"name\": \"st...</td>\n",
       "      <td>{'id': 4}</td>\n",
       "    </tr>\n",
       "  </tbody>\n",
       "</table>\n",
       "</div>"
      ],
      "text/plain": [
       "                                            messages  \\\n",
       "0  [{'content': 'Where can I find live giveaways ...   \n",
       "1  [{'content': 'I need to understand the details...   \n",
       "2  [{'content': 'What is the T3MA for 'ETH/BTC' u...   \n",
       "3  [{'content': 'List titles originally aired on ...   \n",
       "4  [{'content': 'Fetch the competitor standings f...   \n",
       "\n",
       "                                               tools      extra  \n",
       "0  [{\"type\": \"function\", \"function\": {\"name\": \"li...  {'id': 0}  \n",
       "1  [{\"type\": \"function\", \"function\": {\"name\": \"pe...  {'id': 1}  \n",
       "2  [{\"type\": \"function\", \"function\": {\"name\": \"t3...  {'id': 2}  \n",
       "3  [{\"type\": \"function\", \"function\": {\"name\": \"ge...  {'id': 3}  \n",
       "4  [{\"type\": \"function\", \"function\": {\"name\": \"st...  {'id': 4}  "
      ]
     },
     "execution_count": 6,
     "metadata": {},
     "output_type": "execute_result"
    }
   ],
   "source": [
    "# === Step 2: 加载 Hugging Face 数据集并保存到 data/raw/apigen.csv ===\n",
    "from datasets import load_dataset\n",
    "import pandas as pd\n",
    "import os\n",
    "\n",
    "dataset_name = \"minpeter/xlam-function-calling-60k-parsed\"  # ✅ 正确路径\n",
    "\n",
    "print(f\"📦 Loading dataset '{dataset_name}' ...\")\n",
    "\n",
    "dataset = load_dataset(dataset_name)\n",
    "print(\"✅ Dataset loaded successfully!\")\n",
    "\n",
    "# 转换为 DataFrame\n",
    "df = pd.DataFrame(dataset[\"train\"])\n",
    "\n",
    "# 创建输出目录\n",
    "output_dir = \"data/raw\"\n",
    "os.makedirs(output_dir, exist_ok=True)\n",
    "\n",
    "# 保存为 CSV\n",
    "output_path = os.path.join(output_dir, \"apigen.csv\")\n",
    "df.to_csv(output_path, index=False, encoding=\"utf-8\")\n",
    "\n",
    "print(f\"💾 Saved dataset to {output_path}\")\n",
    "df.head()\n",
    "\n"
   ]
  }
 ],
 "metadata": {
  "kernelspec": {
   "display_name": "base",
   "language": "python",
   "name": "python3"
  },
  "language_info": {
   "codemirror_mode": {
    "name": "ipython",
    "version": 3
   },
   "file_extension": ".py",
   "mimetype": "text/x-python",
   "name": "python",
   "nbconvert_exporter": "python",
   "pygments_lexer": "ipython3",
   "version": "3.12.2"
  }
 },
 "nbformat": 4,
 "nbformat_minor": 5
}
